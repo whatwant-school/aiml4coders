{
  "nbformat": 4,
  "nbformat_minor": 0,
  "metadata": {
    "colab": {
      "provenance": []
    },
    "kernelspec": {
      "name": "python3",
      "display_name": "Python 3"
    },
    "language_info": {
      "name": "python"
    },
    "accelerator": "GPU",
    "gpuClass": "standard"
  },
  "cells": [
    {
      "cell_type": "markdown",
      "source": [
        "### Input tensor($N, C_{in}, H_{in}, W_{in}$)\n",
        " - $N$: batch size\n",
        " - $C_{in}$ : in_channerls\n",
        " - $H_{in}$ : 2D input tensor height\n",
        " - $ W_{in}$:  2D input tensor width\n",
        "\n",
        "### Output size\n",
        " ![image.png](http://drive.google.com/uc?id=12reHf9xtapZrVBG4LlNbNGa37ZeFfUqk)"
      ],
      "metadata": {
        "id": "e6tGUJAJTeGK"
      }
    },
    {
      "cell_type": "code",
      "metadata": {
        "id": "HdGyn7qivFhs",
        "colab": {
          "base_uri": "https://localhost:8080/"
        },
        "outputId": "ab35ce63-a109-4141-bb55-597a9f2606e1"
      },
      "source": [
        "import torch\n",
        "import torch.nn as nn\n",
        "\n",
        "input = torch.ones(1,1,4,4)\n",
        "conv_layer = nn.Conv2d(in_channels=1, out_channels=1, kernel_size=3, stride=1, padding=0)\n",
        "output = conv_layer(input)\n",
        "\n",
        "print(output.shape)"
      ],
      "execution_count": 1,
      "outputs": [
        {
          "output_type": "stream",
          "name": "stdout",
          "text": [
            "torch.Size([1, 1, 2, 2])\n"
          ]
        }
      ]
    },
    {
      "cell_type": "code",
      "metadata": {
        "id": "aagJ40kTvHCW",
        "colab": {
          "base_uri": "https://localhost:8080/"
        },
        "outputId": "63a8d1a9-354f-489d-a3f8-12ca39ae4a31"
      },
      "source": [
        "input = torch.ones(1,1,5,5)\n",
        "conv_layer = nn.Conv2d(in_channels=1, out_channels=1, kernel_size=3, stride=2, padding=0)\n",
        "output = conv_layer(input)\n",
        "\n",
        "print(output.shape)"
      ],
      "execution_count": 2,
      "outputs": [
        {
          "output_type": "stream",
          "name": "stdout",
          "text": [
            "torch.Size([1, 1, 2, 2])\n"
          ]
        }
      ]
    },
    {
      "cell_type": "code",
      "metadata": {
        "id": "XFf37HKxvP54",
        "colab": {
          "base_uri": "https://localhost:8080/"
        },
        "outputId": "a6032a98-9c27-4251-ceac-1399b68f22b9"
      },
      "source": [
        "input = torch.ones(1,1,5,5)\n",
        "conv_layer = nn.Conv2d(in_channels=1, out_channels=1, kernel_size=4, stride=1, padding=2)\n",
        "output = conv_layer(input)\n",
        "\n",
        "print(output.shape)"
      ],
      "execution_count": 3,
      "outputs": [
        {
          "output_type": "stream",
          "name": "stdout",
          "text": [
            "torch.Size([1, 1, 6, 6])\n"
          ]
        }
      ]
    },
    {
      "cell_type": "code",
      "metadata": {
        "id": "81nhcGmivU_f",
        "colab": {
          "base_uri": "https://localhost:8080/"
        },
        "outputId": "28399ba2-8b4e-4e3e-9c88-ece34f4378e0"
      },
      "source": [
        "input = torch.ones(1,1,6,6)\n",
        "conv_layer = nn.Conv2d(in_channels=1, out_channels=1, kernel_size=3, stride=2, padding=1)\n",
        "output = conv_layer(input)\n",
        "\n",
        "print(output.shape)"
      ],
      "execution_count": 4,
      "outputs": [
        {
          "output_type": "stream",
          "name": "stdout",
          "text": [
            "torch.Size([1, 1, 3, 3])\n"
          ]
        }
      ]
    },
    {
      "cell_type": "code",
      "metadata": {
        "id": "MQDSRygVvbbO",
        "colab": {
          "base_uri": "https://localhost:8080/"
        },
        "outputId": "c4a38ee5-f27c-4406-8459-7c49be0a8148"
      },
      "source": [
        "input = torch.ones(1,1,5,5)\n",
        "conv_layer = nn.Conv2d(in_channels=1, out_channels=1, kernel_size=3, stride=1, padding=1)\n",
        "output = conv_layer(input)\n",
        "\n",
        "print(output.shape)"
      ],
      "execution_count": 5,
      "outputs": [
        {
          "output_type": "stream",
          "name": "stdout",
          "text": [
            "torch.Size([1, 1, 5, 5])\n"
          ]
        }
      ]
    },
    {
      "cell_type": "code",
      "metadata": {
        "id": "9MMoLbYxvmhH",
        "colab": {
          "base_uri": "https://localhost:8080/"
        },
        "outputId": "e2afcc82-1d41-433d-90e6-6c74418c4fde"
      },
      "source": [
        "input = torch.ones(1,1,5,5)\n",
        "conv_layer = nn.Conv2d(in_channels=1, out_channels=1, kernel_size=3, stride=2, padding=1)\n",
        "output = conv_layer(input)\n",
        "\n",
        "print(output.shape)"
      ],
      "execution_count": 6,
      "outputs": [
        {
          "output_type": "stream",
          "name": "stdout",
          "text": [
            "torch.Size([1, 1, 3, 3])\n"
          ]
        }
      ]
    },
    {
      "cell_type": "code",
      "metadata": {
        "id": "Rjoq0NZ2vsTX",
        "colab": {
          "base_uri": "https://localhost:8080/"
        },
        "outputId": "06f75631-2eab-47e5-b8c8-4c72adf0e4c3"
      },
      "source": [
        "input = torch.ones(1,1,5,5)\n",
        "conv_layer = nn.Conv2d(in_channels=1, out_channels=1, kernel_size=3, stride=1, padding=2)\n",
        "output = conv_layer(input)\n",
        "\n",
        "print(output.shape)"
      ],
      "execution_count": 7,
      "outputs": [
        {
          "output_type": "stream",
          "name": "stdout",
          "text": [
            "torch.Size([1, 1, 7, 7])\n"
          ]
        }
      ]
    },
    {
      "cell_type": "code",
      "metadata": {
        "id": "Q8-EEdMyw9wX",
        "colab": {
          "base_uri": "https://localhost:8080/"
        },
        "outputId": "9f3554a8-fd8e-4c12-d725-e90effe400a0"
      },
      "source": [
        "input = torch.ones(1,3,5,5)\n",
        "conv_layer = nn.Conv2d(in_channels=3, out_channels=3, kernel_size=3, stride=2, padding=1)\n",
        "output = conv_layer(input)\n",
        "\n",
        "print(output.shape)"
      ],
      "execution_count": 8,
      "outputs": [
        {
          "output_type": "stream",
          "name": "stdout",
          "text": [
            "torch.Size([1, 3, 3, 3])\n"
          ]
        }
      ]
    },
    {
      "cell_type": "code",
      "metadata": {
        "id": "aos7P8uayt2H",
        "colab": {
          "base_uri": "https://localhost:8080/"
        },
        "outputId": "ec90c35a-7624-4f79-d9a4-b08423fdd648"
      },
      "source": [
        "input = torch.ones(1,1,6,6)\n",
        "conv_layer = nn.Conv2d(in_channels=1, out_channels=1, kernel_size=3, stride=2, padding=0)\n",
        "output = conv_layer(input)\n",
        "\n",
        "print(output.shape)"
      ],
      "execution_count": 9,
      "outputs": [
        {
          "output_type": "stream",
          "name": "stdout",
          "text": [
            "torch.Size([1, 1, 2, 2])\n"
          ]
        }
      ]
    },
    {
      "cell_type": "code",
      "metadata": {
        "colab": {
          "base_uri": "https://localhost:8080/"
        },
        "id": "yUqcnjUX2cnZ",
        "outputId": "0297538c-8019-445c-9e3a-a5ae7e483f75"
      },
      "source": [
        "INPUT_SIZE = (227,227)\n",
        "IN_CHANNELS = 3\n",
        "OUT_CHANNELS = 10\n",
        "KERNEL_SIZE = 11\n",
        "STRIDE = 4\n",
        "PADDING = 0\n",
        "\n",
        "input = torch.ones(1,IN_CHANNELS,INPUT_SIZE[0],INPUT_SIZE[1])\n",
        "func = nn.Conv2d(in_channels=IN_CHANNELS, out_channels=OUT_CHANNELS, kernel_size=KERNEL_SIZE, stride=STRIDE, padding=PADDING)\n",
        "output = func(input)\n",
        "\n",
        "print(output.shape)"
      ],
      "execution_count": 10,
      "outputs": [
        {
          "output_type": "stream",
          "name": "stdout",
          "text": [
            "torch.Size([1, 10, 55, 55])\n"
          ]
        }
      ]
    },
    {
      "cell_type": "code",
      "metadata": {
        "id": "bVg1KI146VxQ",
        "colab": {
          "base_uri": "https://localhost:8080/"
        },
        "outputId": "dc25b1d6-f184-4d2b-b61f-9fb1a428d1ca"
      },
      "source": [
        "input = torch.tensor([[[1.,0.,2.,3.],[4.,6.,6.,8.],[3.,1.,1.,0.],[1.,2.,2.,4.]]])\n",
        "print(input)\n",
        "\n",
        "func = nn.MaxPool2d(kernel_size=2)\n",
        "output = func(input)\n",
        "print(output)"
      ],
      "execution_count": 11,
      "outputs": [
        {
          "output_type": "stream",
          "name": "stdout",
          "text": [
            "tensor([[[1., 0., 2., 3.],\n",
            "         [4., 6., 6., 8.],\n",
            "         [3., 1., 1., 0.],\n",
            "         [1., 2., 2., 4.]]])\n",
            "tensor([[[6., 8.],\n",
            "         [3., 4.]]])\n"
          ]
        }
      ]
    },
    {
      "cell_type": "code",
      "metadata": {
        "id": "W4SBl9g3A3uM",
        "colab": {
          "base_uri": "https://localhost:8080/"
        },
        "outputId": "121df7dc-dcd5-4197-c894-52e4549a1a86"
      },
      "source": [
        "input = torch.tensor([[[1.,0.,2.,3.],[4.,6.,6.,8.],[3.,1.,1.,0.],[1.,2.,2.,4.]]])\n",
        "print(input)\n",
        "\n",
        "func = nn.AvgPool2d(kernel_size=2)\n",
        "output = func(input)\n",
        "print(output)"
      ],
      "execution_count": 12,
      "outputs": [
        {
          "output_type": "stream",
          "name": "stdout",
          "text": [
            "tensor([[[1., 0., 2., 3.],\n",
            "         [4., 6., 6., 8.],\n",
            "         [3., 1., 1., 0.],\n",
            "         [1., 2., 2., 4.]]])\n",
            "tensor([[[2.7500, 4.7500],\n",
            "         [1.7500, 1.7500]]])\n"
          ]
        }
      ]
    },
    {
      "cell_type": "code",
      "metadata": {
        "id": "rrqjmhhSA7yn",
        "colab": {
          "base_uri": "https://localhost:8080/"
        },
        "outputId": "f094122a-0feb-40cc-c300-acf0644debd1"
      },
      "source": [
        "input = torch.tensor([[[1.,0.,2.,3.],[4.,6.,6.,8.],[3.,1.,1.,0.],[1.,2.,2.,4.]]]) # shpae : [1,4,4]\n",
        "print(input)\n",
        "\n",
        "# kernel_size, stride, padding을 입력하는 대신에 output의 사이즈를 입력\n",
        "# 위의 식에 따라서 자동으로 kernel_size, stride, padding이 결정되어 pooling을 할 수 있음.\n",
        "func = nn.AdaptiveAvgPool2d(1)\n",
        "output = func(input)\n",
        "print(output) # shape : [1,1,1]"
      ],
      "execution_count": 13,
      "outputs": [
        {
          "output_type": "stream",
          "name": "stdout",
          "text": [
            "tensor([[[1., 0., 2., 3.],\n",
            "         [4., 6., 6., 8.],\n",
            "         [3., 1., 1., 0.],\n",
            "         [1., 2., 2., 4.]]])\n",
            "tensor([[[2.7500]]])\n"
          ]
        }
      ]
    },
    {
      "cell_type": "code",
      "metadata": {
        "id": "iRdf0cDhdBf1",
        "colab": {
          "base_uri": "https://localhost:8080/"
        },
        "outputId": "3de81318-463d-4469-ef83-ed239f208a45"
      },
      "source": [
        "input = torch.randn((1,3,4,4))\n",
        "print(input)\n",
        "\n",
        "func = nn.AdaptiveAvgPool2d(1)\n",
        "output = func(input)\n",
        "print(output)"
      ],
      "execution_count": 14,
      "outputs": [
        {
          "output_type": "stream",
          "name": "stdout",
          "text": [
            "tensor([[[[ 1.1358, -0.4860, -1.8319, -0.4489],\n",
            "          [ 1.1558,  0.2675, -0.2777,  0.3188],\n",
            "          [ 0.4887,  0.0254, -0.0799,  1.6214],\n",
            "          [ 0.2664,  0.2437,  0.4042, -1.0725]],\n",
            "\n",
            "         [[-0.1373, -1.3475,  0.7030,  1.7158],\n",
            "          [-1.0345, -2.1510,  1.2963,  0.8145],\n",
            "          [-2.3135,  2.9643, -1.7261, -0.3689],\n",
            "          [-0.7123, -0.6998,  2.3185, -0.6847]],\n",
            "\n",
            "         [[-0.8528,  0.1739,  2.3470,  0.3019],\n",
            "          [-1.2943, -2.8226, -0.8044,  0.5313],\n",
            "          [-0.6425,  2.4071,  0.5349, -0.0153],\n",
            "          [-0.1673,  0.0211,  0.5458, -1.1221]]]])\n",
            "tensor([[[[ 0.1082]],\n",
            "\n",
            "         [[-0.0852]],\n",
            "\n",
            "         [[-0.0536]]]])\n"
          ]
        }
      ]
    },
    {
      "cell_type": "code",
      "metadata": {
        "id": "8R7JRuJhBOzz",
        "colab": {
          "base_uri": "https://localhost:8080/"
        },
        "outputId": "66029df8-ddf6-4003-faab-f7563fb278e7"
      },
      "source": [
        "input = torch.randn((1,3,1,1))\n",
        "print(input)\n",
        "\n",
        "func = nn.AdaptiveAvgPool2d(7)\n",
        "output = func(input)\n",
        "print(output)"
      ],
      "execution_count": 15,
      "outputs": [
        {
          "output_type": "stream",
          "name": "stdout",
          "text": [
            "tensor([[[[ 0.2016]],\n",
            "\n",
            "         [[-0.0078]],\n",
            "\n",
            "         [[ 0.9717]]]])\n",
            "tensor([[[[ 0.2016,  0.2016,  0.2016,  0.2016,  0.2016,  0.2016,  0.2016],\n",
            "          [ 0.2016,  0.2016,  0.2016,  0.2016,  0.2016,  0.2016,  0.2016],\n",
            "          [ 0.2016,  0.2016,  0.2016,  0.2016,  0.2016,  0.2016,  0.2016],\n",
            "          [ 0.2016,  0.2016,  0.2016,  0.2016,  0.2016,  0.2016,  0.2016],\n",
            "          [ 0.2016,  0.2016,  0.2016,  0.2016,  0.2016,  0.2016,  0.2016],\n",
            "          [ 0.2016,  0.2016,  0.2016,  0.2016,  0.2016,  0.2016,  0.2016],\n",
            "          [ 0.2016,  0.2016,  0.2016,  0.2016,  0.2016,  0.2016,  0.2016]],\n",
            "\n",
            "         [[-0.0078, -0.0078, -0.0078, -0.0078, -0.0078, -0.0078, -0.0078],\n",
            "          [-0.0078, -0.0078, -0.0078, -0.0078, -0.0078, -0.0078, -0.0078],\n",
            "          [-0.0078, -0.0078, -0.0078, -0.0078, -0.0078, -0.0078, -0.0078],\n",
            "          [-0.0078, -0.0078, -0.0078, -0.0078, -0.0078, -0.0078, -0.0078],\n",
            "          [-0.0078, -0.0078, -0.0078, -0.0078, -0.0078, -0.0078, -0.0078],\n",
            "          [-0.0078, -0.0078, -0.0078, -0.0078, -0.0078, -0.0078, -0.0078],\n",
            "          [-0.0078, -0.0078, -0.0078, -0.0078, -0.0078, -0.0078, -0.0078]],\n",
            "\n",
            "         [[ 0.9717,  0.9717,  0.9717,  0.9717,  0.9717,  0.9717,  0.9717],\n",
            "          [ 0.9717,  0.9717,  0.9717,  0.9717,  0.9717,  0.9717,  0.9717],\n",
            "          [ 0.9717,  0.9717,  0.9717,  0.9717,  0.9717,  0.9717,  0.9717],\n",
            "          [ 0.9717,  0.9717,  0.9717,  0.9717,  0.9717,  0.9717,  0.9717],\n",
            "          [ 0.9717,  0.9717,  0.9717,  0.9717,  0.9717,  0.9717,  0.9717],\n",
            "          [ 0.9717,  0.9717,  0.9717,  0.9717,  0.9717,  0.9717,  0.9717],\n",
            "          [ 0.9717,  0.9717,  0.9717,  0.9717,  0.9717,  0.9717,  0.9717]]]])\n"
          ]
        }
      ]
    }
  ]
}